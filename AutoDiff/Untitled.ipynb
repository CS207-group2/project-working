{
 "cells": [
  {
   "cell_type": "code",
   "execution_count": 70,
   "metadata": {},
   "outputs": [
    {
     "name": "stdout",
     "output_type": "stream",
     "text": [
      "The autoreload extension is already loaded. To reload it, use:\n",
      "  %reload_ext autoreload\n"
     ]
    }
   ],
   "source": [
    "%load_ext autoreload\n",
    "%autoreload 2\n",
    "from AutoDiff import AutoDiff\n",
    "from Dual import *\n",
    "from Dual.dual import Dual"
   ]
  },
  {
   "cell_type": "code",
   "execution_count": 71,
   "metadata": {},
   "outputs": [
    {
     "data": {
      "text/plain": [
       "[[5, 4], [5, 4], [5, 4]]"
      ]
     },
     "execution_count": 71,
     "metadata": {},
     "output_type": "execute_result"
    }
   ],
   "source": [
    "a = AutoDiff(lambda x, y: 5*x + 4*y)\n",
    "#a = AutoDiff(lambda x: 5*x)\n",
    "a.get_der([[6.7, 4],[2,3],[4.5,6]])"
   ]
  },
  {
   "cell_type": "code",
   "execution_count": 35,
   "metadata": {
    "collapsed": true,
    "scrolled": true
   },
   "outputs": [],
   "source": [
    "import inspect\n",
    "f = lambda x, y: 5*x + 4*y\n",
    "l = [3,4]"
   ]
  },
  {
   "cell_type": "code",
   "execution_count": 72,
   "metadata": {},
   "outputs": [
    {
     "data": {
      "text/plain": [
       "9"
      ]
     },
     "execution_count": 72,
     "metadata": {},
     "output_type": "execute_result"
    }
   ],
   "source": [
    "x = Dual(4)\n",
    "y = Dual(3)\n",
    "\n",
    "f(x,y).der"
   ]
  },
  {
   "cell_type": "code",
   "execution_count": 5,
   "metadata": {
    "collapsed": true
   },
   "outputs": [],
   "source": [
    "sig=inspect.signature(f)"
   ]
  },
  {
   "cell_type": "code",
   "execution_count": 18,
   "metadata": {},
   "outputs": [
    {
     "data": {
      "text/plain": [
       "['x', 'y']"
      ]
     },
     "execution_count": 18,
     "metadata": {},
     "output_type": "execute_result"
    }
   ],
   "source": [
    "list(sig.parameters)"
   ]
  },
  {
   "cell_type": "code",
   "execution_count": 14,
   "metadata": {
    "collapsed": true
   },
   "outputs": [],
   "source": [
    "import inspect\n",
    "class func:\n",
    "    def __init__(self, fn):\n",
    "        self.fn = fn\n",
    "    \n",
    "    def get_der(self, val):\n",
    "        sig = inspect.signature(self.fn)\n",
    "        l = len(list(sig.parameters))\n",
    "        if l >= 2:\n",
    "            if len(list(sig.parameters)) != len(val):\n",
    "                raise Exception('Function requires {} values corresponding to the multiple variables'.format(l))"
   ]
  },
  {
   "cell_type": "code",
   "execution_count": 15,
   "metadata": {
    "collapsed": true
   },
   "outputs": [],
   "source": [
    "f1 = lambda x, y: 5*x + 4*y\n",
    "f1_1 = func(f1)"
   ]
  },
  {
   "cell_type": "code",
   "execution_count": 25,
   "metadata": {},
   "outputs": [
    {
     "name": "stdout",
     "output_type": "stream",
     "text": [
      "[<Dual.dual.Dual object at 0x10cf1b208>, 4]\n",
      "5\n",
      "[3, <Dual.dual.Dual object at 0x10cf1b208>]\n",
      "4\n"
     ]
    }
   ],
   "source": [
    "for i in range(len(l)):\n",
    "    nl = l.copy()\n",
    "    nl[i] = Dual(nl[i])\n",
    "    print(nl)\n",
    "    print(f1(*nl).der)"
   ]
  },
  {
   "cell_type": "code",
   "execution_count": 59,
   "metadata": {},
   "outputs": [
    {
     "name": "stdout",
     "output_type": "stream",
     "text": [
      "sad\n"
     ]
    },
    {
     "data": {
      "text/plain": [
       "'happy'"
      ]
     },
     "execution_count": 59,
     "metadata": {},
     "output_type": "execute_result"
    }
   ],
   "source": [
    "def is_list(input_list):\n",
    "    if any(isinstance(el, list) for el in input_list) is True:\n",
    "        return 'happy'\n",
    "    else:\n",
    "        return 'sad'\n",
    "    \n",
    "l_of_l = [[1,2], [3,4], [5,6]]\n",
    "li = [1,2,3,4]\n",
    "print(is_list(li))\n",
    "is_list(l_of_l)"
   ]
  },
  {
   "cell_type": "code",
   "execution_count": 80,
   "metadata": {},
   "outputs": [],
   "source": [
    "import pytest\n",
    "\n",
    "def test_get_der_types():\n",
    "    with pytest.raises(TypeError):\n",
    "        AutoDiff.get_der('string')\n",
    "    with pytest.raises(TypeError):\n",
    "        AutoDiff.get_der(dict[1:'a', 2:'b'])\n",
    "\n",
    "def test_get_der_lenlist():\n",
    "    a = AutoDiff(lambda x,y: 3*x**2 + 2*y**3)\n",
    "    with pytest.raises(Exception):\n",
    "        a.get_der(1, 2, 3)\n",
    "    with pytest.raises(Exception):\n",
    "        a.get_der([1, 2, 3], [3, 4, 5], [1, 3, 4])\n",
    "     "
   ]
  },
  {
   "cell_type": "code",
   "execution_count": 81,
   "metadata": {},
   "outputs": [
    {
     "name": "stdout",
     "output_type": "stream",
     "text": [
      "\u001b[1m============================= test session starts ==============================\u001b[0m\n",
      "platform darwin -- Python 3.6.3, pytest-3.2.1, py-1.4.34, pluggy-0.4.0\n",
      "rootdir: /Users/maleah, inifile: setup.cfg\n",
      "plugins: cov-2.6.0\n",
      "collected 17 items / 4 errors                                                   \u001b[0m\u001b[1m\u001b[1m\u001b[1m\n",
      "\n",
      "\n",
      "---------- coverage: platform darwin, python 3.6.3-final-0 -----------\n",
      "Name                                    Stmts   Miss  Cover   Missing\n",
      "---------------------------------------------------------------------\n",
      "AutoDiff.py                                29     28     3%   2-45\n",
      "Dual/__init__.py                            0      0   100%\n",
      "Dual/dual.py                               55     40    27%   6-7, 13, 16, 22-25, 28, 34-37, 40, 46-51, 54, 60-68, 71, 77-87, 90-93\n",
      "Dual/test_dual.py                          88     68    23%   7-10, 13-16, 22-25, 28-31, 34-37, 44-47, 50-53, 56-59, 66-69, 72-75, 78-81, 88-91, 94-97, 100-103, 110-113, 116-119, 122-125\n",
      "__init__.py                                 0      0   100%\n",
      "admath.py                                   8      7    12%   2-10\n",
      "test_main.py                               11     10     9%   2-18\n",
      "/Users/maleah/project-working/dual.py      55     40    27%   6-7, 13, 16, 22-25, 28, 34-37, 40, 46-51, 54, 60-68, 71, 77-87, 90-93\n",
      "---------------------------------------------------------------------\n",
      "TOTAL                                     246    193    22%\n",
      "\n",
      "==================================== ERRORS ====================================\n",
      "____________ ERROR collecting project-working/AutoDiff/AutoDiff.py _____________\n",
      "\u001b[1m\u001b[31mAutoDiff.py\u001b[0m:1: in <module>\n",
      "\u001b[1m    from Dual.dual import Dual\u001b[0m\n",
      "\u001b[1m\u001b[31mE   ModuleNotFoundError: No module named 'Dual'\u001b[0m\n",
      "_____________ ERROR collecting project-working/AutoDiff/admath.py ______________\n",
      "\u001b[1m\u001b[31madmath.py\u001b[0m:1: in <module>\n",
      "\u001b[1m    from Dual.dual import Dual\u001b[0m\n",
      "\u001b[1m\u001b[31mE   ModuleNotFoundError: No module named 'Dual'\u001b[0m\n",
      "____________ ERROR collecting project-working/AutoDiff/test_main.py ____________\n",
      "\u001b[1m\u001b[31mtest_main.py\u001b[0m:1: in <module>\n",
      "\u001b[1m    from AutoDiff import AutoDiff\u001b[0m\n",
      "\u001b[1m\u001b[31mAutoDiff.py\u001b[0m:1: in <module>\n",
      "\u001b[1m    from Dual.dual import Dual\u001b[0m\n",
      "\u001b[1m\u001b[31mE   ModuleNotFoundError: No module named 'Dual'\u001b[0m\n",
      "____________ ERROR collecting project-working/AutoDiff/test_main.py ____________\n",
      "\u001b[31mImportError while importing test module '/Users/maleah/project-working/AutoDiff/test_main.py'.\n",
      "Hint: make sure your test modules/packages have valid Python names.\n",
      "Traceback:\n",
      "test_main.py:1: in <module>\n",
      "    from AutoDiff import AutoDiff\n",
      "AutoDiff.py:1: in <module>\n",
      "    from Dual.dual import Dual\n",
      "E   ModuleNotFoundError: No module named 'Dual'\u001b[0m\n",
      "!!!!!!!!!!!!!!!!!!! Interrupted: 4 errors during collection !!!!!!!!!!!!!!!!!!!!\n",
      "\u001b[31m\u001b[1m=========================== 4 error in 0.44 seconds ============================\u001b[0m\n"
     ]
    }
   ],
   "source": [
    "!pytest --cov "
   ]
  },
  {
   "cell_type": "code",
   "execution_count": null,
   "metadata": {
    "collapsed": true
   },
   "outputs": [],
   "source": []
  }
 ],
 "metadata": {
  "kernelspec": {
   "display_name": "Python 3",
   "language": "python",
   "name": "python3"
  },
  "language_info": {
   "codemirror_mode": {
    "name": "ipython",
    "version": 3
   },
   "file_extension": ".py",
   "mimetype": "text/x-python",
   "name": "python",
   "nbconvert_exporter": "python",
   "pygments_lexer": "ipython3",
   "version": "3.6.3"
  }
 },
 "nbformat": 4,
 "nbformat_minor": 2
}
