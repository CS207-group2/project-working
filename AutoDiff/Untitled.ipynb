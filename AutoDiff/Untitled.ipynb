{
 "cells": [
  {
   "cell_type": "code",
<<<<<<< Updated upstream
   "execution_count": 70,
=======
   "execution_count": 219,
>>>>>>> Stashed changes
   "metadata": {},
   "outputs": [
    {
     "name": "stdout",
     "output_type": "stream",
     "text": [
      "The autoreload extension is already loaded. To reload it, use:\n",
      "  %reload_ext autoreload\n"
     ]
    }
   ],
   "source": [
    "%load_ext autoreload\n",
    "%autoreload 2\n",
    "from AutoDiff import AutoDiff\n",
    "from Dual import *\n",
    "from Dual.dual import Dual"
   ]
  },
  {
   "cell_type": "code",
<<<<<<< Updated upstream
   "execution_count": 71,
=======
   "execution_count": 103,
>>>>>>> Stashed changes
   "metadata": {},
   "outputs": [
    {
     "data": {
      "text/plain": [
<<<<<<< Updated upstream
       "[[5, 4], [5, 4], [5, 4]]"
      ]
     },
     "execution_count": 71,
=======
       "<function __main__.my_fn>"
      ]
     },
     "execution_count": 103,
>>>>>>> Stashed changes
     "metadata": {},
     "output_type": "execute_result"
    }
   ],
   "source": [
<<<<<<< Updated upstream
    "a = AutoDiff(lambda x, y: 5*x + 4*y)\n",
    "#a = AutoDiff(lambda x: 5*x)\n",
    "a.get_der([[6.7, 4],[2,3],[4.5,6]])"
=======
    "def my_fn(x, y):\n",
    "    return [x**2 + y, x - y]\n",
    "\n",
    "x = Dual(1)\n",
    "y = Dual(2)\n",
    "\n",
    "my_fn(x, 2)\n",
    "my_fn(1, y)\n",
    "\n",
    "my_fn"
   ]
  },
  {
   "cell_type": "code",
   "execution_count": 222,
   "metadata": {},
   "outputs": [
    {
     "data": {
      "text/plain": [
       "[5, 8]"
      ]
     },
     "execution_count": 222,
     "metadata": {},
     "output_type": "execute_result"
    }
   ],
   "source": [
    "a = AutoDiff(my_fn)\n",
    "a = AutoDiff(lambda x, y: 5*x + y**2)\n",
    "a.get_der([6.7, 4])"
   ]
  },
  {
   "cell_type": "code",
   "execution_count": 108,
   "metadata": {},
   "outputs": [
    {
     "ename": "TypeError",
     "evalue": "'function' object is not iterable",
     "output_type": "error",
     "traceback": [
      "\u001b[0;31m---------------------------------------------------------------------------\u001b[0m",
      "\u001b[0;31mTypeError\u001b[0m                                 Traceback (most recent call last)",
      "\u001b[0;32m<ipython-input-108-872084024c44>\u001b[0m in \u001b[0;36m<module>\u001b[0;34m()\u001b[0m\n\u001b[1;32m      1\u001b[0m \u001b[0;32mimport\u001b[0m \u001b[0mnumpy\u001b[0m \u001b[0;32mas\u001b[0m \u001b[0mnp\u001b[0m\u001b[0;34m\u001b[0m\u001b[0m\n\u001b[0;32m----> 2\u001b[0;31m \u001b[0;32mfor\u001b[0m \u001b[0mi\u001b[0m \u001b[0;32min\u001b[0m \u001b[0mmy_fn\u001b[0m\u001b[0;34m:\u001b[0m\u001b[0;34m\u001b[0m\u001b[0m\n\u001b[0m\u001b[1;32m      3\u001b[0m     \u001b[0mprint\u001b[0m\u001b[0;34m(\u001b[0m\u001b[0;34m'happy'\u001b[0m\u001b[0;34m)\u001b[0m\u001b[0;34m\u001b[0m\u001b[0m\n",
      "\u001b[0;31mTypeError\u001b[0m: 'function' object is not iterable"
     ]
    }
   ],
   "source": [
    "import numpy as np\n",
    "for i in my_fn:\n",
    "    print('happy')\n"
>>>>>>> Stashed changes
   ]
  },
  {
   "cell_type": "code",
   "execution_count": 35,
   "metadata": {
    "collapsed": true,
    "scrolled": true
   },
   "outputs": [],
   "source": [
    "import inspect\n",
    "f = lambda x, y: 5*x + 4*y\n",
    "l = [3,4]"
   ]
  },
  {
   "cell_type": "code",
   "execution_count": 72,
   "metadata": {},
   "outputs": [
    {
     "data": {
      "text/plain": [
       "9"
      ]
     },
     "execution_count": 72,
     "metadata": {},
     "output_type": "execute_result"
    }
   ],
   "source": [
    "x = Dual(4)\n",
    "y = Dual(3)\n",
    "\n",
    "f(x,y).der"
   ]
  },
  {
   "cell_type": "code",
   "execution_count": 5,
   "metadata": {
    "collapsed": true
   },
   "outputs": [],
   "source": [
    "sig=inspect.signature(f)"
   ]
  },
  {
   "cell_type": "code",
   "execution_count": 18,
   "metadata": {},
   "outputs": [
    {
     "data": {
      "text/plain": [
       "['x', 'y']"
      ]
     },
     "execution_count": 18,
     "metadata": {},
     "output_type": "execute_result"
    }
   ],
   "source": [
    "list(sig.parameters)"
   ]
  },
  {
   "cell_type": "code",
   "execution_count": 14,
   "metadata": {
    "collapsed": true
   },
   "outputs": [],
   "source": [
    "import inspect\n",
    "class func:\n",
    "    def __init__(self, fn):\n",
    "        self.fn = fn\n",
    "    \n",
    "    def get_der(self, val):\n",
    "        sig = inspect.signature(self.fn)\n",
    "        l = len(list(sig.parameters))\n",
    "        if l >= 2:\n",
    "            if len(list(sig.parameters)) != len(val):\n",
    "                raise Exception('Function requires {} values corresponding to the multiple variables'.format(l))"
   ]
  },
  {
   "cell_type": "code",
<<<<<<< Updated upstream
   "execution_count": 15,
   "metadata": {
    "collapsed": true
   },
   "outputs": [],
   "source": [
    "f1 = lambda x, y: 5*x + 4*y\n",
    "f1_1 = func(f1)"
=======
   "execution_count": 113,
   "metadata": {},
   "outputs": [
    {
     "name": "stdout",
     "output_type": "stream",
     "text": [
      "(x, y)\n"
     ]
    }
   ],
   "source": [
    "f1 = lambda x, y: 5*x + 4*y\n",
    "#f1_1 = func(f1)\n",
    "sig = inspect.signature(f1)\n",
    "print(sig)\n",
    "\n"
   ]
  },
  {
   "cell_type": "code",
   "execution_count": 118,
   "metadata": {},
   "outputs": [
    {
     "name": "stdout",
     "output_type": "stream",
     "text": [
      "OrderedDict([('x', <Parameter \"x\">), ('y', <Parameter \"y\">)])\n"
     ]
    }
   ],
   "source": [
    "def my_fn(x, y):\n",
    "    return [x**2 + y, x - y]\n",
    "\n",
    "sig1 = inspect.signature(my_fn)\n",
    "params = sig1.parameters\n",
    "print(params)"
>>>>>>> Stashed changes
   ]
  },
  {
   "cell_type": "code",
   "execution_count": 25,
   "metadata": {},
   "outputs": [
    {
     "name": "stdout",
     "output_type": "stream",
     "text": [
      "[<Dual.dual.Dual object at 0x10cf1b208>, 4]\n",
      "5\n",
      "[3, <Dual.dual.Dual object at 0x10cf1b208>]\n",
      "4\n"
     ]
    }
   ],
   "source": [
    "for i in range(len(l)):\n",
    "    nl = l.copy()\n",
    "    nl[i] = Dual(nl[i])\n",
    "    print(nl)\n",
    "    print(f1(*nl).der)"
   ]
  },
  {
   "cell_type": "code",
   "execution_count": 59,
   "metadata": {},
   "outputs": [
    {
     "name": "stdout",
     "output_type": "stream",
     "text": [
      "sad\n"
     ]
    },
    {
     "data": {
      "text/plain": [
       "'happy'"
      ]
     },
     "execution_count": 59,
     "metadata": {},
     "output_type": "execute_result"
    }
   ],
   "source": [
    "def is_list(input_list):\n",
    "    if any(isinstance(el, list) for el in input_list) is True:\n",
    "        return 'happy'\n",
    "    else:\n",
    "        return 'sad'\n",
    "    \n",
    "l_of_l = [[1,2], [3,4], [5,6]]\n",
    "li = [1,2,3,4]\n",
    "print(is_list(li))\n",
    "is_list(l_of_l)"
   ]
  },
  {
   "cell_type": "code",
<<<<<<< Updated upstream
   "execution_count": 80,
=======
   "execution_count": 83,
>>>>>>> Stashed changes
   "metadata": {},
   "outputs": [],
   "source": [
    "import pytest\n",
    "\n",
    "def test_get_der_types():\n",
    "    with pytest.raises(TypeError):\n",
    "        AutoDiff.get_der('string')\n",
    "    with pytest.raises(TypeError):\n",
    "        AutoDiff.get_der(dict[1:'a', 2:'b'])\n",
    "\n",
    "def test_get_der_lenlist():\n",
    "    a = AutoDiff(lambda x,y: 3*x**2 + 2*y**3)\n",
    "    with pytest.raises(Exception):\n",
    "        a.get_der(1, 2, 3)\n",
    "    with pytest.raises(Exception):\n",
    "        a.get_der([1, 2, 3], [3, 4, 5], [1, 3, 4])\n",
    "     "
   ]
  },
  {
   "cell_type": "code",
<<<<<<< Updated upstream
   "execution_count": 81,
   "metadata": {},
=======
   "execution_count": 84,
   "metadata": {
    "scrolled": true
   },
>>>>>>> Stashed changes
   "outputs": [
    {
     "name": "stdout",
     "output_type": "stream",
     "text": [
      "\u001b[1m============================= test session starts ==============================\u001b[0m\n",
      "platform darwin -- Python 3.6.3, pytest-3.2.1, py-1.4.34, pluggy-0.4.0\n",
<<<<<<< Updated upstream
      "rootdir: /Users/maleah, inifile: setup.cfg\n",
      "plugins: cov-2.6.0\n",
      "collected 17 items / 4 errors                                                   \u001b[0m\u001b[1m\u001b[1m\u001b[1m\n",
      "\n",
      "\n",
      "---------- coverage: platform darwin, python 3.6.3-final-0 -----------\n",
      "Name                                    Stmts   Miss  Cover   Missing\n",
      "---------------------------------------------------------------------\n",
      "AutoDiff.py                                29     28     3%   2-45\n",
      "Dual/__init__.py                            0      0   100%\n",
      "Dual/dual.py                               55     40    27%   6-7, 13, 16, 22-25, 28, 34-37, 40, 46-51, 54, 60-68, 71, 77-87, 90-93\n",
      "Dual/test_dual.py                          88     68    23%   7-10, 13-16, 22-25, 28-31, 34-37, 44-47, 50-53, 56-59, 66-69, 72-75, 78-81, 88-91, 94-97, 100-103, 110-113, 116-119, 122-125\n",
      "__init__.py                                 0      0   100%\n",
      "admath.py                                   8      7    12%   2-10\n",
      "test_main.py                               11     10     9%   2-18\n",
      "/Users/maleah/project-working/dual.py      55     40    27%   6-7, 13, 16, 22-25, 28, 34-37, 40, 46-51, 54, 60-68, 71, 77-87, 90-93\n",
      "---------------------------------------------------------------------\n",
      "TOTAL                                     246    193    22%\n",
      "\n",
      "==================================== ERRORS ====================================\n",
      "____________ ERROR collecting project-working/AutoDiff/AutoDiff.py _____________\n",
      "\u001b[1m\u001b[31mAutoDiff.py\u001b[0m:1: in <module>\n",
      "\u001b[1m    from Dual.dual import Dual\u001b[0m\n",
      "\u001b[1m\u001b[31mE   ModuleNotFoundError: No module named 'Dual'\u001b[0m\n",
      "_____________ ERROR collecting project-working/AutoDiff/admath.py ______________\n",
      "\u001b[1m\u001b[31madmath.py\u001b[0m:1: in <module>\n",
      "\u001b[1m    from Dual.dual import Dual\u001b[0m\n",
      "\u001b[1m\u001b[31mE   ModuleNotFoundError: No module named 'Dual'\u001b[0m\n",
      "____________ ERROR collecting project-working/AutoDiff/test_main.py ____________\n",
      "\u001b[1m\u001b[31mtest_main.py\u001b[0m:1: in <module>\n",
      "\u001b[1m    from AutoDiff import AutoDiff\u001b[0m\n",
      "\u001b[1m\u001b[31mAutoDiff.py\u001b[0m:1: in <module>\n",
      "\u001b[1m    from Dual.dual import Dual\u001b[0m\n",
      "\u001b[1m\u001b[31mE   ModuleNotFoundError: No module named 'Dual'\u001b[0m\n",
      "____________ ERROR collecting project-working/AutoDiff/test_main.py ____________\n",
      "\u001b[31mImportError while importing test module '/Users/maleah/project-working/AutoDiff/test_main.py'.\n",
      "Hint: make sure your test modules/packages have valid Python names.\n",
      "Traceback:\n",
      "test_main.py:1: in <module>\n",
      "    from AutoDiff import AutoDiff\n",
      "AutoDiff.py:1: in <module>\n",
      "    from Dual.dual import Dual\n",
      "E   ModuleNotFoundError: No module named 'Dual'\u001b[0m\n",
      "!!!!!!!!!!!!!!!!!!! Interrupted: 4 errors during collection !!!!!!!!!!!!!!!!!!!!\n",
      "\u001b[31m\u001b[1m=========================== 4 error in 0.44 seconds ============================\u001b[0m\n"
=======
      "rootdir: /Users/maleah/project-working, inifile: setup.cfg\n",
      "plugins: cov-2.6.0\n",
      "collected 0 items / 13 errors                                                   \u001b[0m\u001b[1m\u001b[1m\u001b[1m\u001b[1m\u001b[1m\u001b[1m\u001b[1m\n",
      "\n",
      "\n",
      "---------- coverage: platform darwin, python 3.6.3-final-0 -----------\n",
      "Name                Stmts   Miss  Cover   Missing\n",
      "-------------------------------------------------\n",
      "__init__.py             2      1    50%   2\n",
      "test/test_dual.py      88     86     2%   3-125\n",
      "test/test_main.py      11     10     9%   2-18\n",
      "-------------------------------------------------\n",
      "TOTAL                 101     97     4%\n",
      "\n",
      "==================================== ERRORS ====================================\n",
      "____________________ ERROR collecting AutoDiff/AutoDiff.py _____________________\n",
      "\u001b[1m\u001b[31m../../anaconda3/lib/python3.6/site-packages/py/_path/local.py\u001b[0m:662: in pyimport\n",
      "\u001b[1m    __import__(modname)\u001b[0m\n",
      "\u001b[1m\u001b[31m__init__.py\u001b[0m:1: in <module>\n",
      "\u001b[1m    import autodiff.admath.admath as math\u001b[0m\n",
      "\u001b[1m\u001b[31mE   ModuleNotFoundError: No module named 'autodiff'\u001b[0m\n",
      "____________________ ERROR collecting AutoDiff/__init__.py _____________________\n",
      "\u001b[1m\u001b[31m__init__.py\u001b[0m:1: in <module>\n",
      "\u001b[1m    import autodiff.admath.admath as math\u001b[0m\n",
      "\u001b[1m\u001b[31mE   ModuleNotFoundError: No module named 'autodiff'\u001b[0m\n",
      "______________________ ERROR collecting AutoDiff/setup.py ______________________\n",
      "\u001b[1m\u001b[31m../../anaconda3/lib/python3.6/site-packages/py/_path/local.py\u001b[0m:662: in pyimport\n",
      "\u001b[1m    __import__(modname)\u001b[0m\n",
      "\u001b[1m\u001b[31m__init__.py\u001b[0m:1: in <module>\n",
      "\u001b[1m    import autodiff.admath.admath as math\u001b[0m\n",
      "\u001b[1m\u001b[31mE   ModuleNotFoundError: No module named 'autodiff'\u001b[0m\n",
      "__________________ ERROR collecting AutoDiff/Dual/__init__.py __________________\n",
      "\u001b[1m\u001b[31m../../anaconda3/lib/python3.6/site-packages/py/_path/local.py\u001b[0m:662: in pyimport\n",
      "\u001b[1m    __import__(modname)\u001b[0m\n",
      "\u001b[1m\u001b[31m__init__.py\u001b[0m:1: in <module>\n",
      "\u001b[1m    import autodiff.admath.admath as math\u001b[0m\n",
      "\u001b[1m\u001b[31mE   ModuleNotFoundError: No module named 'autodiff'\u001b[0m\n",
      "____________________ ERROR collecting AutoDiff/Dual/dual.py ____________________\n",
      "\u001b[1m\u001b[31m../../anaconda3/lib/python3.6/site-packages/py/_path/local.py\u001b[0m:662: in pyimport\n",
      "\u001b[1m    __import__(modname)\u001b[0m\n",
      "\u001b[1m\u001b[31m__init__.py\u001b[0m:1: in <module>\n",
      "\u001b[1m    import autodiff.admath.admath as math\u001b[0m\n",
      "\u001b[1m\u001b[31mE   ModuleNotFoundError: No module named 'autodiff'\u001b[0m\n",
      "_________________ ERROR collecting AutoDiff/admath/__init__.py _________________\n",
      "\u001b[1m\u001b[31m../../anaconda3/lib/python3.6/site-packages/py/_path/local.py\u001b[0m:662: in pyimport\n",
      "\u001b[1m    __import__(modname)\u001b[0m\n",
      "\u001b[1m\u001b[31m__init__.py\u001b[0m:1: in <module>\n",
      "\u001b[1m    import autodiff.admath.admath as math\u001b[0m\n",
      "\u001b[1m\u001b[31mE   ModuleNotFoundError: No module named 'autodiff'\u001b[0m\n",
      "__________________ ERROR collecting AutoDiff/admath/admath.py __________________\n",
      "\u001b[1m\u001b[31m../../anaconda3/lib/python3.6/site-packages/py/_path/local.py\u001b[0m:662: in pyimport\n",
      "\u001b[1m    __import__(modname)\u001b[0m\n",
      "\u001b[1m\u001b[31m__init__.py\u001b[0m:1: in <module>\n",
      "\u001b[1m    import autodiff.admath.admath as math\u001b[0m\n",
      "\u001b[1m\u001b[31mE   ModuleNotFoundError: No module named 'autodiff'\u001b[0m\n",
      "_______________ ERROR collecting AutoDiff/interface/__init__.py ________________\n",
      "\u001b[1m\u001b[31m../../anaconda3/lib/python3.6/site-packages/py/_path/local.py\u001b[0m:662: in pyimport\n",
      "\u001b[1m    __import__(modname)\u001b[0m\n",
      "\u001b[1m\u001b[31m__init__.py\u001b[0m:1: in <module>\n",
      "\u001b[1m    import autodiff.admath.admath as math\u001b[0m\n",
      "\u001b[1m\u001b[31mE   ModuleNotFoundError: No module named 'autodiff'\u001b[0m\n",
      "_______________ ERROR collecting AutoDiff/interface/interface.py _______________\n",
      "\u001b[1m\u001b[31m../../anaconda3/lib/python3.6/site-packages/py/_path/local.py\u001b[0m:662: in pyimport\n",
      "\u001b[1m    __import__(modname)\u001b[0m\n",
      "\u001b[1m\u001b[31m__init__.py\u001b[0m:1: in <module>\n",
      "\u001b[1m    import autodiff.admath.admath as math\u001b[0m\n",
      "\u001b[1m\u001b[31mE   ModuleNotFoundError: No module named 'autodiff'\u001b[0m\n",
      "_________________ ERROR collecting AutoDiff/test/test_dual.py __________________\n",
      "\u001b[1m\u001b[31mtest/test_dual.py\u001b[0m:2: in <module>\n",
      "\u001b[1m    import dual\u001b[0m\n",
      "\u001b[1m\u001b[31mE   ModuleNotFoundError: No module named 'dual'\u001b[0m\n",
      "_________________ ERROR collecting AutoDiff/test/test_dual.py __________________\n",
      "\u001b[31mImportError while importing test module '/Users/maleah/project-working/AutoDiff/test/test_dual.py'.\n",
      "Hint: make sure your test modules/packages have valid Python names.\n",
      "Traceback:\n",
      "test/test_dual.py:2: in <module>\n",
      "    import dual\n",
      "E   ModuleNotFoundError: No module named 'dual'\u001b[0m\n",
      "_________________ ERROR collecting AutoDiff/test/test_main.py __________________\n",
      "\u001b[1m\u001b[31mtest/test_main.py\u001b[0m:1: in <module>\n",
      "\u001b[1m    from AutoDiff import AutoDiff\u001b[0m\n",
      "\u001b[1m\u001b[31m__init__.py\u001b[0m:1: in <module>\n",
      "\u001b[1m    import autodiff.admath.admath as math\u001b[0m\n",
      "\u001b[1m\u001b[31mE   ModuleNotFoundError: No module named 'autodiff'\u001b[0m\n",
      "_________________ ERROR collecting AutoDiff/test/test_main.py __________________\n",
      "\u001b[31mImportError while importing test module '/Users/maleah/project-working/AutoDiff/test/test_main.py'.\n",
      "Hint: make sure your test modules/packages have valid Python names.\n",
      "Traceback:\n",
      "test/test_main.py:1: in <module>\n",
      "    from AutoDiff import AutoDiff\n",
      "__init__.py:1: in <module>\n",
      "    import autodiff.admath.admath as math\n",
      "E   ModuleNotFoundError: No module named 'autodiff'\u001b[0m\n",
      "!!!!!!!!!!!!!!!!!!! Interrupted: 13 errors during collection !!!!!!!!!!!!!!!!!!!\n",
      "\u001b[31m\u001b[1m=========================== 13 error in 0.67 seconds ===========================\u001b[0m\n"
>>>>>>> Stashed changes
     ]
    }
   ],
   "source": [
    "!pytest --cov "
   ]
  },
  {
   "cell_type": "code",
<<<<<<< Updated upstream
=======
   "execution_count": 187,
   "metadata": {},
   "outputs": [
    {
     "name": "stdout",
     "output_type": "stream",
     "text": [
      "{'n_fxn': 3}\n"
     ]
    },
    {
     "ename": "UnboundLocalError",
     "evalue": "local variable 'sig' referenced before assignment",
     "output_type": "error",
     "traceback": [
      "\u001b[0;31m---------------------------------------------------------------------------\u001b[0m",
      "\u001b[0;31mUnboundLocalError\u001b[0m                         Traceback (most recent call last)",
      "\u001b[0;32m<ipython-input-187-26289568cf63>\u001b[0m in \u001b[0;36m<module>\u001b[0;34m()\u001b[0m\n\u001b[1;32m     50\u001b[0m \u001b[0ma\u001b[0m \u001b[0;34m=\u001b[0m \u001b[0mAutoDiff1\u001b[0m\u001b[0;34m(\u001b[0m\u001b[0mmy_fn\u001b[0m\u001b[0;34m)\u001b[0m\u001b[0;34m\u001b[0m\u001b[0m\n\u001b[1;32m     51\u001b[0m \u001b[0;31m#a = AutoDiff1(lambda x: 5*x)\u001b[0m\u001b[0;34m\u001b[0m\u001b[0;34m\u001b[0m\u001b[0m\n\u001b[0;32m---> 52\u001b[0;31m \u001b[0ma\u001b[0m\u001b[0;34m.\u001b[0m\u001b[0mget_der\u001b[0m\u001b[0;34m(\u001b[0m\u001b[0;34m[\u001b[0m\u001b[0;36m4\u001b[0m\u001b[0;34m,\u001b[0m \u001b[0;36m2\u001b[0m\u001b[0;34m]\u001b[0m\u001b[0;34m,\u001b[0m\u001b[0mn_fxn\u001b[0m\u001b[0;34m=\u001b[0m\u001b[0;36m3\u001b[0m\u001b[0;34m)\u001b[0m\u001b[0;34m\u001b[0m\u001b[0m\n\u001b[0m",
      "\u001b[0;32m<ipython-input-187-26289568cf63>\u001b[0m in \u001b[0;36mget_der\u001b[0;34m(self, *args, **kwargs)\u001b[0m\n\u001b[1;32m     27\u001b[0m \u001b[0;34m\u001b[0m\u001b[0m\n\u001b[1;32m     28\u001b[0m         \u001b[0mprint\u001b[0m\u001b[0;34m(\u001b[0m\u001b[0mkwargs\u001b[0m\u001b[0;34m)\u001b[0m\u001b[0;34m\u001b[0m\u001b[0m\n\u001b[0;32m---> 29\u001b[0;31m         \u001b[0mprint\u001b[0m\u001b[0;34m(\u001b[0m\u001b[0msig\u001b[0m\u001b[0;34m.\u001b[0m\u001b[0mparameters\u001b[0m\u001b[0;34m)\u001b[0m\u001b[0;34m\u001b[0m\u001b[0m\n\u001b[0m\u001b[1;32m     30\u001b[0m         \u001b[0mders\u001b[0m \u001b[0;34m=\u001b[0m \u001b[0;34m[\u001b[0m\u001b[0;34m]\u001b[0m\u001b[0;34m\u001b[0m\u001b[0m\n\u001b[1;32m     31\u001b[0m         \u001b[0msig\u001b[0m \u001b[0;34m=\u001b[0m \u001b[0minspect\u001b[0m\u001b[0;34m.\u001b[0m\u001b[0msignature\u001b[0m\u001b[0;34m(\u001b[0m\u001b[0mself\u001b[0m\u001b[0;34m.\u001b[0m\u001b[0mfn\u001b[0m\u001b[0;34m)\u001b[0m\u001b[0;34m\u001b[0m\u001b[0m\n",
      "\u001b[0;31mUnboundLocalError\u001b[0m: local variable 'sig' referenced before assignment"
     ]
    }
   ],
   "source": [
    "def my_fn(x, y):\n",
    "    return [x**2 + y**2, x + y]\n",
    "\n",
    "class AutoDiff1:\n",
    "    def __init__(self, fn,n_dim=1):\n",
    "        self.fn = fn\n",
    "        self.ndim = n_dim\n",
    "        self.sig = inspect.signature(self.fn)\n",
    "        self.l = len(list(sig.parameters))    \n",
    "        \n",
    "\n",
    "    def get_der(self, *args,**kwargs):\n",
    "        \"\"\" Returns derivatives of the function evaluated at values given.\n",
    "        \n",
    "        INPUTS\n",
    "        =======\n",
    "        val : single number, a list of numbers, or a list of lists\n",
    "        \n",
    "        RETURNS\n",
    "        =======\n",
    "        Derivates in the same shape given\n",
    "        \n",
    "        EXAMPLE\n",
    "        =======\n",
    "        >>> a = AutoDiff(lambda x,y: 5*x + 4*y)\n",
    "        a.get_der([[6.7, 4],[2,3],[4.5,6]])\n",
    "        [[5, 4], [5, 4], [5, 4]]\n",
    "        \"\"\"\n",
    "        ders = [[],[]]\n",
    "\n",
    "        print(kwargs)\n",
    "        print(sig.parameters)\n",
    "        ders = []\n",
    "        sig = inspect.signature(self.fn)\n",
    "        l = len(list(sig.parameters))\n",
    "        #for p in val:\n",
    "        print(args)\n",
    "        #print(self.fn(list(args)))\n",
    "        print(args[0][0])\n",
    "#         ders.append(self.get_der(args[0]))\n",
    "        \n",
    "        #return self.get_der(self.fn(list(args[0])))\n",
    "#         if l >= 2:\n",
    "#                 for i in l:\n",
    "#                     nl = l.copy()\n",
    "#                     nl[i] = Dual(nl[i])\n",
    "#                     print(nl)\n",
    "#                     print(f1(*nl).der)\n",
    "#         for p in val:\n",
    "#             ders.append(self.fn(p))\n",
    "        return ders\n",
    "\n",
    "a = AutoDiff1(my_fn)\n",
    "#a = AutoDiff1(lambda x: 5*x)\n",
    "a.get_der([4, 2],n_fxn=3)"
   ]
  },
  {
   "cell_type": "code",
   "execution_count": 237,
   "metadata": {
    "collapsed": true
   },
   "outputs": [],
   "source": [
    "def my_fn_2d(x, y):\n",
    "    return [x**2 + y**2, x + 2+y]\n",
    "def my_fn_1d(x,y):\n",
    "    return x**2 + y**2\n",
    "\n",
    "\n"
   ]
  },
  {
   "cell_type": "code",
   "execution_count": 281,
   "metadata": {},
   "outputs": [
    {
     "data": {
      "text/plain": [
       "[2, 0]"
      ]
     },
     "execution_count": 281,
     "metadata": {},
     "output_type": "execute_result"
    }
   ],
   "source": [
    "class AutoDiff:\n",
    "    def __init__(self, fn, ndim=1):\n",
    "        self.fn = fn\n",
    "        self.ndim = ndim\n",
    "        sig = inspect.signature(self.fn)\n",
    "        self.l = len(list(sig.parameters))         \n",
    "\n",
    "    def get_der(self, val):\n",
    "        \"\"\" Returns derivatives of the function evaluated at values given.\n",
    "        \n",
    "        INPUTS\n",
    "        =======\n",
    "        val : single number, a list of numbers, or a list of lists\n",
    "        \n",
    "        RETURNS\n",
    "        =======\n",
    "        Derivates in the same shape given\n",
    "        \n",
    "        EXAMPLE\n",
    "        =======\n",
    "        >>> a = AutoDiff(lambda x,y: 5*x + 4*y)\n",
    "        a.get_der([[6.7, 4],[2,3],[4.5,6]])\n",
    "        [[5, 4], [5, 4], [5, 4]]\n",
    "        \"\"\"\n",
    "        ders = []\n",
    "        if self.ndim >1:\n",
    "            for i in range(self.ndim):\n",
    "                def fxn(*args):\n",
    "                    return self.fn(*args)[i]\n",
    "                a = AutoDiff(fxn,ndim=1)\n",
    "                a.l=self.l\n",
    "                ders.append(a.get_der(val))\n",
    "            return ders\n",
    "        else:\n",
    "            if self.l >= 2:\n",
    "\n",
    "                #for list of lists, each list evaluated at different variables\n",
    "                if any(isinstance(el, list) for el in val) is True:  \n",
    "                    list_der = []\n",
    "                    for p in val:\n",
    "                        list_der.append(self.get_der(p))\n",
    "                    return list_der\n",
    "                elif self.l != len(val):\n",
    "                    raise Exception('Function requires {} values that correspond to the multiple variables'.format(self.l))\n",
    "                else:\n",
    "                    #for a list of numbers, evaluated at different variables.\n",
    "                    for i in range(self.l): \n",
    "                        new_val = val.copy()\n",
    "                        new_val[i] = Dual(new_val[i])\n",
    "                        v = self.fn(*new_val)                   \n",
    "                        #Check if variable is in the function. (E.g., function paramaters are x, y and function is x.)\n",
    "                        if type(v) is Dual:    \n",
    "                            ders.append(self.fn(*new_val).der)\n",
    "                        else:\n",
    "                            ders.append(0)\n",
    "                    return ders\n",
    "            #for a list of numbers, evaluated at a single variable.\n",
    "            if (isinstance(val,list)): \n",
    "                for v in val:\n",
    "                    a = Dual(v)\n",
    "                    ders.append(self.fn(a).der)\n",
    "                return ders\n",
    "            else:\n",
    "                a = Dual(val)\n",
    "                return self.fn(a).der\n",
    "def my_fn_1d(x,y):\n",
    "    return x**2\n",
    "\n",
    "\n",
    "my_fn_1d(Dual(3),2)\n",
    "boobie = AutoDiff(my_fn_1d,ndim=1)\n",
    "boobie.get_der([1,2])"
   ]
  },
  {
   "cell_type": "code",
   "execution_count": 289,
   "metadata": {},
   "outputs": [],
   "source": [
    "def my_fn_2d(x, y):\n",
    "    return [x**2 + y**2, x + 2+y]\n",
    "def my_fn_1d(x,y):\n",
    "    return x**2 + y**2"
   ]
  },
  {
   "cell_type": "code",
   "execution_count": 283,
   "metadata": {},
   "outputs": [
    {
     "ename": "AttributeError",
     "evalue": "'int' object has no attribute 'der'",
     "output_type": "error",
     "traceback": [
      "\u001b[0;31m---------------------------------------------------------------------------\u001b[0m",
      "\u001b[0;31mAttributeError\u001b[0m                            Traceback (most recent call last)",
      "\u001b[0;32m<ipython-input-283-6ec6fbf03b01>\u001b[0m in \u001b[0;36m<module>\u001b[0;34m()\u001b[0m\n\u001b[0;32m----> 1\u001b[0;31m \u001b[0mmy_fn_1d\u001b[0m\u001b[0;34m(\u001b[0m\u001b[0;36m3\u001b[0m\u001b[0;34m,\u001b[0m\u001b[0mDual\u001b[0m\u001b[0;34m(\u001b[0m\u001b[0;36m2\u001b[0m\u001b[0;34m)\u001b[0m\u001b[0;34m)\u001b[0m\u001b[0;34m.\u001b[0m\u001b[0mder\u001b[0m\u001b[0;34m\u001b[0m\u001b[0m\n\u001b[0m",
      "\u001b[0;31mAttributeError\u001b[0m: 'int' object has no attribute 'der'"
     ]
    }
   ],
   "source": [
    "my_fn_1d(3,Dual(2)).der"
   ]
  },
  {
   "cell_type": "code",
   "execution_count": 288,
   "metadata": {},
   "outputs": [
    {
     "data": {
      "text/plain": [
       "array([[2, 4],\n",
       "       [1, 1]])"
      ]
     },
     "execution_count": 288,
     "metadata": {},
     "output_type": "execute_result"
    }
   ],
   "source": [
    "        \n",
    "boobie = AutoDiff(my_fn_2d,ndim=2)\n",
    "np.array(boobie.get_der([1,2]))"
   ]
  },
  {
   "cell_type": "code",
   "execution_count": 285,
   "metadata": {},
   "outputs": [
    {
     "ename": "NameError",
     "evalue": "name 'fxn1_der' is not defined",
     "output_type": "error",
     "traceback": [
      "\u001b[0;31m---------------------------------------------------------------------------\u001b[0m",
      "\u001b[0;31mNameError\u001b[0m                                 Traceback (most recent call last)",
      "\u001b[0;32m<ipython-input-285-f37b978a8112>\u001b[0m in \u001b[0;36m<module>\u001b[0;34m()\u001b[0m\n\u001b[1;32m      5\u001b[0m \u001b[0;34m\u001b[0m\u001b[0m\n\u001b[1;32m      6\u001b[0m     \u001b[0mders\u001b[0m\u001b[0;34m.\u001b[0m\u001b[0mappend\u001b[0m\u001b[0;34m(\u001b[0m\u001b[0;34m[\u001b[0m\u001b[0;34m]\u001b[0m\u001b[0;34m)\u001b[0m\u001b[0;34m\u001b[0m\u001b[0m\n\u001b[0;32m----> 7\u001b[0;31m     \u001b[0mfxn1_der\u001b[0m\u001b[0;34m\u001b[0m\u001b[0m\n\u001b[0m\u001b[1;32m      8\u001b[0m \u001b[0;34m\u001b[0m\u001b[0m\n\u001b[1;32m      9\u001b[0m \u001b[0mders\u001b[0m\u001b[0;34m\u001b[0m\u001b[0m\n",
      "\u001b[0;31mNameError\u001b[0m: name 'fxn1_der' is not defined"
     ]
    }
   ],
   "source": [
    "ndim = 2\n",
    "ders = []\n",
    "\n",
    "for i in range(ndim):\n",
    "    \n",
    "    ders.append([])\n",
    "    fxn1_der\n",
    "    \n",
    "ders"
   ]
  },
  {
   "cell_type": "code",
   "execution_count": 152,
   "metadata": {
    "collapsed": true
   },
   "outputs": [],
   "source": [
    "get_der_multfxn(n_fxn=2,[4,3])"
   ]
  },
  {
   "cell_type": "code",
   "execution_count": 153,
   "metadata": {},
   "outputs": [
    {
     "data": {
      "text/plain": [
       "range(3, 6)"
      ]
     },
     "execution_count": 153,
     "metadata": {},
     "output_type": "execute_result"
    }
   ],
   "source": [
    "range(*args)"
   ]
  },
  {
   "cell_type": "code",
   "execution_count": 154,
   "metadata": {},
   "outputs": [
    {
     "data": {
      "text/plain": [
       "range(3, 6)"
      ]
     },
     "execution_count": 154,
     "metadata": {},
     "output_type": "execute_result"
    }
   ],
   "source": [
    "range(3, 6)"
   ]
  },
  {
   "cell_type": "code",
   "execution_count": 162,
   "metadata": {},
   "outputs": [
    {
     "data": {
      "text/plain": [
       "[34, 8]"
      ]
     },
     "execution_count": 162,
     "metadata": {},
     "output_type": "execute_result"
    }
   ],
   "source": [
    "args = (3, 5)\n",
    "my_fn(*args)"
   ]
  },
  {
   "cell_type": "code",
>>>>>>> Stashed changes
   "execution_count": null,
   "metadata": {
    "collapsed": true
   },
   "outputs": [],
<<<<<<< Updated upstream
   "source": []
=======
   "source": [
    "        if self.ndim >1:\n",
    "            fxn1 = lambda self.fn(x)[0]\n",
    "            AutoDiff(fxn1,ndim=1)\n",
    "            AutoDiff()\n",
    "            fxn1_der = self.fn(var)[0]\n",
    "            fxn2_der = self.fn(var)[1]"
   ]
>>>>>>> Stashed changes
  }
 ],
 "metadata": {
  "kernelspec": {
   "display_name": "Python 3",
   "language": "python",
   "name": "python3"
  },
  "language_info": {
   "codemirror_mode": {
    "name": "ipython",
    "version": 3
   },
   "file_extension": ".py",
   "mimetype": "text/x-python",
   "name": "python",
   "nbconvert_exporter": "python",
   "pygments_lexer": "ipython3",
   "version": "3.6.3"
  }
 },
 "nbformat": 4,
 "nbformat_minor": 2
}
