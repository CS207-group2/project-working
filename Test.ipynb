{
 "cells": [
  {
   "cell_type": "code",
   "execution_count": 29,
   "metadata": {},
   "outputs": [],
   "source": [
    "import autodiff.admath.admath as math\n",
    "from autodiff.interface.interface import AutoDiff as AD"
   ]
  },
  {
   "cell_type": "code",
   "execution_count": 3,
   "metadata": {},
   "outputs": [
    {
     "data": {
      "text/plain": [
       "6"
      ]
     },
     "execution_count": 3,
     "metadata": {},
     "output_type": "execute_result"
    }
   ],
   "source": [
    "def square_fn(x):\n",
    "    return x ** 2\n",
    "\n",
    "ad_square = AD(square_fn)\n",
    "ad_square.get_der(3)"
   ]
  },
  {
   "cell_type": "markdown",
   "metadata": {},
   "source": [
    "Correct!"
   ]
  },
  {
   "cell_type": "code",
   "execution_count": 4,
   "metadata": {},
   "outputs": [
    {
     "data": {
      "text/plain": [
       "[2, 4]"
      ]
     },
     "execution_count": 4,
     "metadata": {},
     "output_type": "execute_result"
    }
   ],
   "source": [
    "ad_square.get_der([1,2])"
   ]
  },
  {
   "cell_type": "markdown",
   "metadata": {},
   "source": [
    "Correct!"
   ]
  },
  {
   "cell_type": "code",
   "execution_count": 5,
   "metadata": {},
   "outputs": [
    {
     "data": {
      "text/plain": [
       "1.0"
      ]
     },
     "execution_count": 5,
     "metadata": {},
     "output_type": "execute_result"
    }
   ],
   "source": [
    "def sin_fn(x):\n",
    "    return math.sin(x)\n",
    "\n",
    "ad_sin = AD(sin_fn)\n",
    "ad_sin.get_der(0)"
   ]
  },
  {
   "cell_type": "markdown",
   "metadata": {},
   "source": [
    "Correct!"
   ]
  },
  {
   "cell_type": "code",
   "execution_count": 6,
   "metadata": {},
   "outputs": [
    {
     "data": {
      "text/plain": [
       "[16, 16]"
      ]
     },
     "execution_count": 6,
     "metadata": {},
     "output_type": "execute_result"
    }
   ],
   "source": [
    "def mul_fn(x, y):\n",
    "    return x**2 * y**2\n",
    "\n",
    "mul_fn = AD(mul_fn)\n",
    "mul_fn.get_der([2, 2])"
   ]
  },
  {
   "cell_type": "markdown",
   "metadata": {},
   "source": [
    "Correct!"
   ]
  },
  {
   "cell_type": "code",
   "execution_count": 8,
   "metadata": {},
   "outputs": [
    {
     "ename": "AttributeError",
     "evalue": "'list' object has no attribute 'der'",
     "output_type": "error",
     "traceback": [
      "\u001b[1;31m---------------------------------------------------------------------------\u001b[0m",
      "\u001b[1;31mAttributeError\u001b[0m                            Traceback (most recent call last)",
      "\u001b[1;32m<ipython-input-8-0b14d56902e1>\u001b[0m in \u001b[0;36m<module>\u001b[1;34m()\u001b[0m\n\u001b[0;32m      3\u001b[0m \u001b[1;33m\u001b[0m\u001b[0m\n\u001b[0;32m      4\u001b[0m \u001b[0mmul_fn\u001b[0m \u001b[1;33m=\u001b[0m \u001b[0mAD\u001b[0m\u001b[1;33m(\u001b[0m\u001b[0mmul_fn\u001b[0m\u001b[1;33m)\u001b[0m\u001b[1;33m\u001b[0m\u001b[0m\n\u001b[1;32m----> 5\u001b[1;33m \u001b[0mmul_fn\u001b[0m\u001b[1;33m.\u001b[0m\u001b[0mget_der\u001b[0m\u001b[1;33m(\u001b[0m\u001b[1;33m[\u001b[0m\u001b[1;36m2\u001b[0m\u001b[1;33m,\u001b[0m \u001b[1;36m2\u001b[0m\u001b[1;33m]\u001b[0m\u001b[1;33m)\u001b[0m\u001b[1;33m\u001b[0m\u001b[0m\n\u001b[0m",
      "\u001b[1;32m~\\Documents\\project_working\\autodiff\\interface\\interface.py\u001b[0m in \u001b[0;36mget_der\u001b[1;34m(self, val)\u001b[0m\n\u001b[0;32m     34\u001b[0m                     \u001b[0mnew_val\u001b[0m \u001b[1;33m=\u001b[0m \u001b[0mval\u001b[0m\u001b[1;33m.\u001b[0m\u001b[0mcopy\u001b[0m\u001b[1;33m(\u001b[0m\u001b[1;33m)\u001b[0m\u001b[1;33m\u001b[0m\u001b[0m\n\u001b[0;32m     35\u001b[0m                     \u001b[0mnew_val\u001b[0m\u001b[1;33m[\u001b[0m\u001b[0mi\u001b[0m\u001b[1;33m]\u001b[0m \u001b[1;33m=\u001b[0m \u001b[0mDual\u001b[0m\u001b[1;33m(\u001b[0m\u001b[0mnew_val\u001b[0m\u001b[1;33m[\u001b[0m\u001b[0mi\u001b[0m\u001b[1;33m]\u001b[0m\u001b[1;33m)\u001b[0m\u001b[1;33m\u001b[0m\u001b[0m\n\u001b[1;32m---> 36\u001b[1;33m                     \u001b[0mders\u001b[0m\u001b[1;33m.\u001b[0m\u001b[0mappend\u001b[0m\u001b[1;33m(\u001b[0m\u001b[0mself\u001b[0m\u001b[1;33m.\u001b[0m\u001b[0mfn\u001b[0m\u001b[1;33m(\u001b[0m\u001b[1;33m*\u001b[0m\u001b[0mnew_val\u001b[0m\u001b[1;33m)\u001b[0m\u001b[1;33m.\u001b[0m\u001b[0mder\u001b[0m\u001b[1;33m)\u001b[0m\u001b[1;33m\u001b[0m\u001b[0m\n\u001b[0m\u001b[0;32m     37\u001b[0m                 \u001b[1;32mreturn\u001b[0m \u001b[0mders\u001b[0m\u001b[1;33m\u001b[0m\u001b[0m\n\u001b[0;32m     38\u001b[0m         \u001b[1;31m#for a list of numbers, evaluated at a single variable.\u001b[0m\u001b[1;33m\u001b[0m\u001b[1;33m\u001b[0m\u001b[0m\n",
      "\u001b[1;31mAttributeError\u001b[0m: 'list' object has no attribute 'der'"
     ]
    }
   ],
   "source": [
    "def mul_fn(x, y):\n",
    "    return [x**2 * y**2, x + y]\n",
    "\n",
    "mul_fn = AD(mul_fn)\n",
    "mul_fn.get_der([2, 2])"
   ]
  },
  {
   "cell_type": "code",
   "execution_count": 32,
   "metadata": {},
   "outputs": [
    {
     "name": "stdout",
     "output_type": "stream",
     "text": [
      "\u001b[1m============================= test session starts ==============================\u001b[0m\n",
      "platform darwin -- Python 3.6.6, pytest-3.8.0, py-1.6.0, pluggy-0.7.1\n",
      "rootdir: /Users/pwong/.Trash/project-working 11.07.54 PM, inifile: setup.cfg\n",
      "plugins: remotedata-0.3.0, openfiles-0.3.0, doctestplus-0.1.3, cov-2.6.0, arraydiff-0.2\n",
      "collected 0 items / 4 errors                                                   \u001b[0m\u001b[1m\u001b[1m\n",
      "Coverage.py warning: Module roots was never imported. (module-not-imported)\n",
      "Coverage.py warning: No data was collected. (no-data-collected)\n",
      "\u001b[31m\u001b[1mWARNING: Failed to generate report: No data to report.\n",
      "\n",
      "\u001b[0m\n",
      "==================================== ERRORS ====================================\n",
      "_________________ ERROR collecting autodiff/test/test_dual.py __________________\n",
      "\u001b[1m\u001b[31mautodiff/test/test_dual.py\u001b[0m:2: in <module>\n",
      "\u001b[1m    import dual\u001b[0m\n",
      "\u001b[1m\u001b[31mE   ModuleNotFoundError: No module named 'dual'\u001b[0m\n",
      "_________________ ERROR collecting autodiff/test/test_dual.py __________________\n",
      "\u001b[31mImportError while importing test module '/Users/pwong/.Trash/project-working 11.07.54 PM/autodiff/test/test_dual.py'.\n",
      "Hint: make sure your test modules/packages have valid Python names.\n",
      "Traceback:\n",
      "autodiff/test/test_dual.py:2: in <module>\n",
      "    import dual\n",
      "E   ModuleNotFoundError: No module named 'dual'\u001b[0m\n",
      "_________________ ERROR collecting autodiff/test/test_main.py __________________\n",
      "\u001b[1m\u001b[31mautodiff/test/test_main.py\u001b[0m:1: in <module>\n",
      "\u001b[1m    from AutoDiff import AutoDiff\u001b[0m\n",
      "\u001b[1m\u001b[31mE   ModuleNotFoundError: No module named 'AutoDiff'\u001b[0m\n",
      "_________________ ERROR collecting autodiff/test/test_main.py __________________\n",
      "\u001b[31mImportError while importing test module '/Users/pwong/.Trash/project-working 11.07.54 PM/autodiff/test/test_main.py'.\n",
      "Hint: make sure your test modules/packages have valid Python names.\n",
      "Traceback:\n",
      "autodiff/test/test_main.py:1: in <module>\n",
      "    from AutoDiff import AutoDiff\n",
      "E   ModuleNotFoundError: No module named 'AutoDiff'\u001b[0m\n",
      "\n",
      "---------- coverage: platform darwin, python 3.6.6-final-0 -----------\n",
      "Name    Stmts   Miss  Cover   Missing\n",
      "-------------------------------------\n",
      "\n",
      "\u001b[33m=============================== warnings summary ===============================\u001b[0m\n",
      "  Failed to generate report: No data to report.\n",
      "\n",
      "-- Docs: https://docs.pytest.org/en/latest/warnings.html\n",
      "!!!!!!!!!!!!!!!!!!! Interrupted: 4 errors during collection !!!!!!!!!!!!!!!!!!!!\n",
      "\u001b[31m\u001b[1m===================== 1 warnings, 4 error in 0.17 seconds ======================\u001b[0m\n"
     ]
    }
   ],
   "source": [
    "!pytest --doctest-modules --cov-report term-missing autodiff"
   ]
  },
  {
   "cell_type": "code",
   "execution_count": 2,
   "metadata": {},
   "outputs": [
    {
     "ename": "NameError",
     "evalue": "name 'AD' is not defined",
     "output_type": "error",
     "traceback": [
      "\u001b[0;31m---------------------------------------------------------------------------\u001b[0m",
      "\u001b[0;31mNameError\u001b[0m                                 Traceback (most recent call last)",
      "\u001b[0;32m<ipython-input-2-d6f67bb936a5>\u001b[0m in \u001b[0;36m<module>\u001b[0;34m()\u001b[0m\n\u001b[1;32m     10\u001b[0m     \u001b[0;32mreturn\u001b[0m \u001b[0madmath\u001b[0m\u001b[0;34m.\u001b[0m\u001b[0msin\u001b[0m\u001b[0;34m(\u001b[0m\u001b[0;36m5\u001b[0m\u001b[0;34m*\u001b[0m\u001b[0mx\u001b[0m\u001b[0;34m)\u001b[0m\u001b[0;34m+\u001b[0m\u001b[0;36m2\u001b[0m\u001b[0;34m*\u001b[0m\u001b[0mx\u001b[0m\u001b[0;34m**\u001b[0m\u001b[0;36m2\u001b[0m\u001b[0;34m\u001b[0m\u001b[0m\n\u001b[1;32m     11\u001b[0m \u001b[0;34m\u001b[0m\u001b[0m\n\u001b[0;32m---> 12\u001b[0;31m \u001b[0mad_square\u001b[0m \u001b[0;34m=\u001b[0m \u001b[0mAD\u001b[0m\u001b[0;34m(\u001b[0m\u001b[0msquare_fn\u001b[0m\u001b[0;34m)\u001b[0m\u001b[0;34m\u001b[0m\u001b[0m\n\u001b[0m\u001b[1;32m     13\u001b[0m \u001b[0mprint\u001b[0m\u001b[0;34m(\u001b[0m\u001b[0mad_square\u001b[0m\u001b[0;34m.\u001b[0m\u001b[0mget_der\u001b[0m\u001b[0;34m(\u001b[0m\u001b[0;36m3\u001b[0m\u001b[0;34m)\u001b[0m\u001b[0;34m)\u001b[0m\u001b[0;34m\u001b[0m\u001b[0m\n\u001b[1;32m     14\u001b[0m \u001b[0;34m\u001b[0m\u001b[0m\n",
      "\u001b[0;31mNameError\u001b[0m: name 'AD' is not defined"
     ]
    }
   ],
   "source": [
    "# from AutoDiff import AutoDiff as AD\n",
    "# import admath\n",
    "\n",
    "\n",
    "def square_fn(x):\n",
    "    return x ** 2\n",
    "\n",
    "\n",
    "def sin_fn(x):\n",
    "    return admath.sin(5*x)+2*x**2\n",
    "\n",
    "ad_square = AD(square_fn)\n",
    "print(ad_square.get_der(3))\n",
    "\n",
    "print(ad_square.get_der([1,2]))\n",
    "\n",
    "ad_sin = AD(sin_fn)\n",
    "print(ad_sin.get_der(2))\n",
    "# Evaluates derivative of sin(5x)+2x^2 when x = 2\n"
   ]
  },
  {
   "cell_type": "code",
   "execution_count": 8,
   "metadata": {},
   "outputs": [],
   "source": [
    "import numpy as np\n",
    "\n",
    "class Dual:\n",
    "    \n",
    "    def __init__(self, x, der=1):\n",
    "        self.val = x\n",
    "        self.der = der\n",
    "        \n",
    "    ## UNARY OPERATIONS\n",
    "        \n",
    "        \n",
    "    def __neg__(self):\n",
    "        return Dual(-self.val, -self.der)\n",
    "    \n",
    "    def __pos__(self):\n",
    "        return Dual(+self.val, +self.der)\n",
    "        \n",
    "        \n",
    "    ## PLUS OPERATIONS\n",
    "    \n",
    "    def __add__(self, other):\n",
    "        try:\n",
    "            return Dual(self.val + other.val, self.der + other.der)\n",
    "        except AttributeError:\n",
    "            return Dual(self.val + other, self.der)\n",
    "    \n",
    "    def __radd__(self, other):\n",
    "        return Dual(other + self.val, self.der)\n",
    "    \n",
    "    \n",
    "    ## MINUS OPERATIONS\n",
    "    \n",
    "    def __sub__(self, other):\n",
    "        try:\n",
    "            return Dual(self.val - other.val, self.der - other.der)\n",
    "        except AttributeError:\n",
    "            return Dual(self.val - other, self.der)\n",
    "        \n",
    "    def __rsub__(self, other):\n",
    "        return Dual(other - self.val, -self.der)\n",
    "        \n",
    "    \n",
    "    ## MULTIPLICATION OPERATIONS\n",
    "    \n",
    "    def __mul__(self, other):\n",
    "        try:\n",
    "            # multiplication rule\n",
    "            temp = self.val * other.der + self.der * other.val\n",
    "            return Dual(self.val * other.val, temp)\n",
    "        except AttributeError:\n",
    "            return Dual(self.val * other, self.der * other)\n",
    "\n",
    "    def __rmul__(self, other):\n",
    "        return Dual(self.val * other, self.der * other)\n",
    "    \n",
    "    \n",
    "    ## DIVISION OPERATIONS\n",
    "        \n",
    "    def __truediv__(self, other):\n",
    "        try:\n",
    "            # quotient rule\n",
    "            temp = (self.der * other.val - self.val * other.der)\n",
    "            print(self.der)\n",
    "            print(other.der)\n",
    "            return Dual(self.val/other.val, temp/other.val ** 2)\n",
    "        except AttributeError:\n",
    "            # divide by a constant\n",
    "            return Dual(self.val/other, self.der/other)\n",
    "        \n",
    "    def __rtruediv__(self, other):\n",
    "            return Dual(other/self.val, -other/self.val**2*self.der)   \n",
    "    \n",
    "    \n",
    "    ## POWER OPERATIONS\n",
    "    \n",
    "    def __pow__(self, other):\n",
    "        try:\n",
    "            # da^u/dx = ln(a) a^u du/dx\n",
    "            factor = self.val ** (other.val -1)\n",
    "            sum_1 = other.val * self.der\n",
    "            sum_2 = self.val * np.log(self.val) * other.der\n",
    "            temp = factor * (sum_1 + sum_2)\n",
    "            return Dual(self.val ** other.val, temp)\n",
    "        except AttributeError:\n",
    "            # du^n/dx = n * u^(n-1) * du/dx\n",
    "            temp = other * self.val ** (other-1) * self.der\n",
    "            return Dual(self.val ** other, temp)\n",
    "        \n",
    "    def __rpow__(self, other):\n",
    "            print(\"__rpow__\")\n",
    "            # da^u/dx = ln(a) a^u du/dx\n",
    "            temp = np.log(other) * other ** self.val * self.der\n",
    "            return Dual(other ** self.val, temp)\n",
    "        \n"
   ]
  },
  {
   "cell_type": "code",
   "execution_count": 16,
   "metadata": {},
   "outputs": [],
   "source": [
    "def exp(x):\n",
    "    \"\"\"Calculate the exponential of the input\n",
    "        \n",
    "        Keyword arguments:\n",
    "        x -- a real number or a dual number\n",
    "        \n",
    "        Return:\n",
    "        the exponential value\n",
    "        \"\"\"\n",
    "    if (isinstance(x,Dual)):\n",
    "        x.der = np.exp(x.val) * x.der\n",
    "        x.val = np.exp(x.val)\n",
    "        return x\n",
    "    else:\n",
    "        return np.exp(x)"
   ]
  },
  {
   "cell_type": "code",
   "execution_count": 17,
   "metadata": {},
   "outputs": [],
   "source": [
    "trial = Dual(2)\n",
    "trial_exp = exp(trial)"
   ]
  },
  {
   "cell_type": "code",
   "execution_count": 18,
   "metadata": {},
   "outputs": [
    {
     "data": {
      "text/plain": [
       "7.38905609893065"
      ]
     },
     "execution_count": 18,
     "metadata": {},
     "output_type": "execute_result"
    }
   ],
   "source": [
    "trial_exp.der #e^2"
   ]
  },
  {
   "cell_type": "code",
   "execution_count": 19,
   "metadata": {},
   "outputs": [
    {
     "data": {
      "text/plain": [
       "7.38905609893065"
      ]
     },
     "execution_count": 19,
     "metadata": {},
     "output_type": "execute_result"
    }
   ],
   "source": [
    "trial_exp.val"
   ]
  },
  {
   "cell_type": "code",
   "execution_count": 20,
   "metadata": {},
   "outputs": [
    {
     "data": {
      "text/plain": [
       "7.38905609893065"
      ]
     },
     "execution_count": 20,
     "metadata": {},
     "output_type": "execute_result"
    }
   ],
   "source": [
    "np.exp(2)"
   ]
  },
  {
   "cell_type": "code",
   "execution_count": null,
   "metadata": {},
   "outputs": [],
   "source": [
    "from AutoDiff import AutoDiff\n",
    "import admath\n",
    "#from ..dual.dual import Dual\n",
    "\n",
    "def square_fn(x):\n",
    "    return x ** 2\n",
    "\n",
    "\n",
    "def sin_fn(x):\n",
    "    return admath.sin(5*x)+2*x**2\n",
    "\n",
    "ad_square = AutoDiff(square_fn)\n",
    "print(ad_square.get_der(3))\n",
    "\n",
    "print(ad_square.get_der([1,2]))\n",
    "\n",
    "ad_sin = AutoDiff(sin_fn)\n",
    "print(ad_sin.get_der(2))\n",
    "# Evaluates derivative of sin(5x)+2x^2 when x = 2\n",
    "\n",
    "# test for cosine\n",
    "def cos_fn(x): # trial cosine function to feed into AutoDiff\n",
    "    return admath.cos(-3*x) + 3*x\n",
    "\n",
    "ad_cos = AutoDiff(cos_fn)\n",
    "print(ad_cos.get_der([2,3]))"
   ]
  }
 ],
 "metadata": {
  "kernelspec": {
   "display_name": "Python 3",
   "language": "python",
   "name": "python3"
  },
  "language_info": {
   "codemirror_mode": {
    "name": "ipython",
    "version": 3
   },
   "file_extension": ".py",
   "mimetype": "text/x-python",
   "name": "python",
   "nbconvert_exporter": "python",
   "pygments_lexer": "ipython3",
   "version": "3.6.6"
  }
 },
 "nbformat": 4,
 "nbformat_minor": 2
}
