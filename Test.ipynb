{
 "cells": [
  {
   "cell_type": "code",
   "execution_count": 4,
   "metadata": {},
   "outputs": [
    {
     "ename": "ModuleNotFoundError",
     "evalue": "No module named 'autodiff'",
     "output_type": "error",
     "traceback": [
      "\u001b[0;31m---------------------------------------------------------------------------\u001b[0m",
      "\u001b[0;31mModuleNotFoundError\u001b[0m                       Traceback (most recent call last)",
      "\u001b[0;32m<ipython-input-4-1c0680a33659>\u001b[0m in \u001b[0;36m<module>\u001b[0;34m()\u001b[0m\n\u001b[0;32m----> 1\u001b[0;31m \u001b[0;32mimport\u001b[0m \u001b[0mAutoDiff\u001b[0m\u001b[0;34m.\u001b[0m\u001b[0madmath\u001b[0m\u001b[0;34m.\u001b[0m\u001b[0madmath\u001b[0m \u001b[0;32mas\u001b[0m \u001b[0mmath\u001b[0m\u001b[0;34m\u001b[0m\u001b[0m\n\u001b[0m\u001b[1;32m      2\u001b[0m \u001b[0;32mfrom\u001b[0m \u001b[0mautodiff\u001b[0m\u001b[0;34m.\u001b[0m\u001b[0minterface\u001b[0m\u001b[0;34m.\u001b[0m\u001b[0minterface\u001b[0m \u001b[0;32mimport\u001b[0m \u001b[0mAutoDiff\u001b[0m \u001b[0;32mas\u001b[0m \u001b[0mAD\u001b[0m\u001b[0;34m\u001b[0m\u001b[0m\n",
      "\u001b[0;32m~/Documents/project-working/AutoDiff/__init__.py\u001b[0m in \u001b[0;36m<module>\u001b[0;34m()\u001b[0m\n\u001b[0;32m----> 1\u001b[0;31m \u001b[0;32mimport\u001b[0m \u001b[0mautodiff\u001b[0m\u001b[0;34m.\u001b[0m\u001b[0madmath\u001b[0m\u001b[0;34m.\u001b[0m\u001b[0madmath\u001b[0m \u001b[0;32mas\u001b[0m \u001b[0mmath\u001b[0m\u001b[0;34m\u001b[0m\u001b[0m\n\u001b[0m\u001b[1;32m      2\u001b[0m \u001b[0;32mfrom\u001b[0m \u001b[0mautodiff\u001b[0m\u001b[0;34m.\u001b[0m\u001b[0minterface\u001b[0m\u001b[0;34m.\u001b[0m\u001b[0minterface\u001b[0m \u001b[0;32mimport\u001b[0m \u001b[0mAutoDiff\u001b[0m \u001b[0;32mas\u001b[0m \u001b[0mAD\u001b[0m\u001b[0;34m\u001b[0m\u001b[0m\n",
      "\u001b[0;31mModuleNotFoundError\u001b[0m: No module named 'autodiff'"
     ]
    }
   ],
   "source": [
    "import AutoDiff.admath.admath as math\n",
    "from autodiff.interface.interface import AutoDiff as AD"
   ]
  },
  {
   "cell_type": "code",
   "execution_count": 5,
   "metadata": {},
   "outputs": [
    {
     "ename": "ModuleNotFoundError",
     "evalue": "No module named 'Autodiff'",
     "output_type": "error",
     "traceback": [
      "\u001b[0;31m---------------------------------------------------------------------------\u001b[0m",
      "\u001b[0;31mModuleNotFoundError\u001b[0m                       Traceback (most recent call last)",
      "\u001b[0;32m<ipython-input-5-ef1cd0de7245>\u001b[0m in \u001b[0;36m<module>\u001b[0;34m()\u001b[0m\n\u001b[0;32m----> 1\u001b[0;31m \u001b[0;32mimport\u001b[0m \u001b[0mAutodiff\u001b[0m\u001b[0;34m\u001b[0m\u001b[0m\n\u001b[0m",
      "\u001b[0;31mModuleNotFoundError\u001b[0m: No module named 'Autodiff'"
     ]
    }
   ],
   "source": [
    "import Autodiff"
   ]
  },
  {
   "cell_type": "code",
   "execution_count": 2,
   "metadata": {},
   "outputs": [
    {
     "data": {
      "text/plain": [
       "6"
      ]
     },
     "execution_count": 2,
     "metadata": {},
     "output_type": "execute_result"
    }
   ],
   "source": [
    "def square_fn(x):\n",
    "    return x ** 2\n",
    "\n",
    "ad_square = AD(square_fn)\n",
    "ad_square.get_der(3)"
   ]
  },
  {
   "cell_type": "markdown",
   "metadata": {},
   "source": [
    "Correct!"
   ]
  },
  {
   "cell_type": "code",
   "execution_count": 3,
   "metadata": {},
   "outputs": [
    {
     "data": {
      "text/plain": [
       "[2, 4]"
      ]
     },
     "execution_count": 3,
     "metadata": {},
     "output_type": "execute_result"
    }
   ],
   "source": [
    "ad_square.get_der([1,2])"
   ]
  },
  {
   "cell_type": "markdown",
   "metadata": {},
   "source": [
    "Correct!"
   ]
  },
  {
   "cell_type": "code",
   "execution_count": 4,
   "metadata": {},
   "outputs": [
    {
     "data": {
      "text/plain": [
       "1.0"
      ]
     },
     "execution_count": 4,
     "metadata": {},
     "output_type": "execute_result"
    }
   ],
   "source": [
    "def sin_fn(x):\n",
    "    return math.sin(x)\n",
    "\n",
    "ad_sin = AD(sin_fn)\n",
    "ad_sin.get_der(0)"
   ]
  },
  {
   "cell_type": "markdown",
   "metadata": {},
   "source": [
    "Correct!"
   ]
  },
  {
   "cell_type": "code",
   "execution_count": 10,
   "metadata": {},
   "outputs": [
    {
     "data": {
      "text/plain": [
       "[16, 16]"
      ]
     },
     "execution_count": 10,
     "metadata": {},
     "output_type": "execute_result"
    }
   ],
   "source": [
    "def mul_fn(x, y):\n",
    "    return x**2 * y**2\n",
    "\n",
    "mul_fn = AD(mul_fn)\n",
    "mul_fn.get_der([2, 2])"
   ]
  },
  {
   "cell_type": "markdown",
   "metadata": {},
   "source": [
    "Correct!"
   ]
  },
  {
   "cell_type": "code",
   "execution_count": 11,
   "metadata": {},
   "outputs": [
    {
     "ename": "AttributeError",
     "evalue": "'list' object has no attribute 'der'",
     "output_type": "error",
     "traceback": [
      "\u001b[1;31m---------------------------------------------------------------------------\u001b[0m",
      "\u001b[1;31mAttributeError\u001b[0m                            Traceback (most recent call last)",
      "\u001b[1;32m<ipython-input-11-0b14d56902e1>\u001b[0m in \u001b[0;36m<module>\u001b[1;34m()\u001b[0m\n\u001b[0;32m      3\u001b[0m \u001b[1;33m\u001b[0m\u001b[0m\n\u001b[0;32m      4\u001b[0m \u001b[0mmul_fn\u001b[0m \u001b[1;33m=\u001b[0m \u001b[0mAD\u001b[0m\u001b[1;33m(\u001b[0m\u001b[0mmul_fn\u001b[0m\u001b[1;33m)\u001b[0m\u001b[1;33m\u001b[0m\u001b[0m\n\u001b[1;32m----> 5\u001b[1;33m \u001b[0mmul_fn\u001b[0m\u001b[1;33m.\u001b[0m\u001b[0mget_der\u001b[0m\u001b[1;33m(\u001b[0m\u001b[1;33m[\u001b[0m\u001b[1;36m2\u001b[0m\u001b[1;33m,\u001b[0m \u001b[1;36m2\u001b[0m\u001b[1;33m]\u001b[0m\u001b[1;33m)\u001b[0m\u001b[1;33m\u001b[0m\u001b[0m\n\u001b[0m",
      "\u001b[1;32m~\\Dropbox\\CS207-group2\\project-working\\autodiff\\interface\\interface.py\u001b[0m in \u001b[0;36mget_der\u001b[1;34m(self, val)\u001b[0m\n\u001b[0;32m     34\u001b[0m                     \u001b[0mnew_val\u001b[0m \u001b[1;33m=\u001b[0m \u001b[0mval\u001b[0m\u001b[1;33m.\u001b[0m\u001b[0mcopy\u001b[0m\u001b[1;33m(\u001b[0m\u001b[1;33m)\u001b[0m\u001b[1;33m\u001b[0m\u001b[0m\n\u001b[0;32m     35\u001b[0m                     \u001b[0mnew_val\u001b[0m\u001b[1;33m[\u001b[0m\u001b[0mi\u001b[0m\u001b[1;33m]\u001b[0m \u001b[1;33m=\u001b[0m \u001b[0mDual\u001b[0m\u001b[1;33m(\u001b[0m\u001b[0mnew_val\u001b[0m\u001b[1;33m[\u001b[0m\u001b[0mi\u001b[0m\u001b[1;33m]\u001b[0m\u001b[1;33m)\u001b[0m\u001b[1;33m\u001b[0m\u001b[0m\n\u001b[1;32m---> 36\u001b[1;33m                     \u001b[0mders\u001b[0m\u001b[1;33m.\u001b[0m\u001b[0mappend\u001b[0m\u001b[1;33m(\u001b[0m\u001b[0mself\u001b[0m\u001b[1;33m.\u001b[0m\u001b[0mfn\u001b[0m\u001b[1;33m(\u001b[0m\u001b[1;33m*\u001b[0m\u001b[0mnew_val\u001b[0m\u001b[1;33m)\u001b[0m\u001b[1;33m.\u001b[0m\u001b[0mder\u001b[0m\u001b[1;33m)\u001b[0m\u001b[1;33m\u001b[0m\u001b[0m\n\u001b[0m\u001b[0;32m     37\u001b[0m                 \u001b[1;32mreturn\u001b[0m \u001b[0mders\u001b[0m\u001b[1;33m\u001b[0m\u001b[0m\n\u001b[0;32m     38\u001b[0m         \u001b[1;31m#for a list of numbers, evaluated at a single variable.\u001b[0m\u001b[1;33m\u001b[0m\u001b[1;33m\u001b[0m\u001b[0m\n",
      "\u001b[1;31mAttributeError\u001b[0m: 'list' object has no attribute 'der'"
     ]
    }
   ],
   "source": [
    "def mul_fn(x, y):\n",
    "    return [x**2 * y**2, x + y]\n",
    "\n",
    "mul_fn = AD(mul_fn)\n",
    "mul_fn.get_der([2, 2])"
   ]
  },
  {
   "cell_type": "code",
   "execution_count": null,
   "metadata": {},
   "outputs": [],
   "source": []
  },
  {
   "cell_type": "code",
   "execution_count": 2,
   "metadata": {},
   "outputs": [
    {
     "ename": "NameError",
     "evalue": "name 'AD' is not defined",
     "output_type": "error",
     "traceback": [
      "\u001b[0;31m---------------------------------------------------------------------------\u001b[0m",
      "\u001b[0;31mNameError\u001b[0m                                 Traceback (most recent call last)",
      "\u001b[0;32m<ipython-input-2-d6f67bb936a5>\u001b[0m in \u001b[0;36m<module>\u001b[0;34m()\u001b[0m\n\u001b[1;32m     10\u001b[0m     \u001b[0;32mreturn\u001b[0m \u001b[0madmath\u001b[0m\u001b[0;34m.\u001b[0m\u001b[0msin\u001b[0m\u001b[0;34m(\u001b[0m\u001b[0;36m5\u001b[0m\u001b[0;34m*\u001b[0m\u001b[0mx\u001b[0m\u001b[0;34m)\u001b[0m\u001b[0;34m+\u001b[0m\u001b[0;36m2\u001b[0m\u001b[0;34m*\u001b[0m\u001b[0mx\u001b[0m\u001b[0;34m**\u001b[0m\u001b[0;36m2\u001b[0m\u001b[0;34m\u001b[0m\u001b[0m\n\u001b[1;32m     11\u001b[0m \u001b[0;34m\u001b[0m\u001b[0m\n\u001b[0;32m---> 12\u001b[0;31m \u001b[0mad_square\u001b[0m \u001b[0;34m=\u001b[0m \u001b[0mAD\u001b[0m\u001b[0;34m(\u001b[0m\u001b[0msquare_fn\u001b[0m\u001b[0;34m)\u001b[0m\u001b[0;34m\u001b[0m\u001b[0m\n\u001b[0m\u001b[1;32m     13\u001b[0m \u001b[0mprint\u001b[0m\u001b[0;34m(\u001b[0m\u001b[0mad_square\u001b[0m\u001b[0;34m.\u001b[0m\u001b[0mget_der\u001b[0m\u001b[0;34m(\u001b[0m\u001b[0;36m3\u001b[0m\u001b[0;34m)\u001b[0m\u001b[0;34m)\u001b[0m\u001b[0;34m\u001b[0m\u001b[0m\n\u001b[1;32m     14\u001b[0m \u001b[0;34m\u001b[0m\u001b[0m\n",
      "\u001b[0;31mNameError\u001b[0m: name 'AD' is not defined"
     ]
    }
   ],
   "source": [
    "# from AutoDiff import AutoDiff as AD\n",
    "# import admath\n",
    "\n",
    "\n",
    "def square_fn(x):\n",
    "    return x ** 2\n",
    "\n",
    "\n",
    "def sin_fn(x):\n",
    "    return admath.sin(5*x)+2*x**2\n",
    "\n",
    "ad_square = AD(square_fn)\n",
    "print(ad_square.get_der(3))\n",
    "\n",
    "print(ad_square.get_der([1,2]))\n",
    "\n",
    "ad_sin = AD(sin_fn)\n",
    "print(ad_sin.get_der(2))\n",
    "# Evaluates derivative of sin(5x)+2x^2 when x = 2\n"
   ]
  },
  {
   "cell_type": "code",
   "execution_count": 8,
   "metadata": {},
   "outputs": [],
   "source": [
    "import numpy as np\n",
    "\n",
    "class Dual:\n",
    "    \n",
    "    def __init__(self, x, der=1):\n",
    "        self.val = x\n",
    "        self.der = der\n",
    "        \n",
    "    ## UNARY OPERATIONS\n",
    "        \n",
    "        \n",
    "    def __neg__(self):\n",
    "        return Dual(-self.val, -self.der)\n",
    "    \n",
    "    def __pos__(self):\n",
    "        return Dual(+self.val, +self.der)\n",
    "        \n",
    "        \n",
    "    ## PLUS OPERATIONS\n",
    "    \n",
    "    def __add__(self, other):\n",
    "        try:\n",
    "            return Dual(self.val + other.val, self.der + other.der)\n",
    "        except AttributeError:\n",
    "            return Dual(self.val + other, self.der)\n",
    "    \n",
    "    def __radd__(self, other):\n",
    "        return Dual(other + self.val, self.der)\n",
    "    \n",
    "    \n",
    "    ## MINUS OPERATIONS\n",
    "    \n",
    "    def __sub__(self, other):\n",
    "        try:\n",
    "            return Dual(self.val - other.val, self.der - other.der)\n",
    "        except AttributeError:\n",
    "            return Dual(self.val - other, self.der)\n",
    "        \n",
    "    def __rsub__(self, other):\n",
    "        return Dual(other - self.val, -self.der)\n",
    "        \n",
    "    \n",
    "    ## MULTIPLICATION OPERATIONS\n",
    "    \n",
    "    def __mul__(self, other):\n",
    "        try:\n",
    "            # multiplication rule\n",
    "            temp = self.val * other.der + self.der * other.val\n",
    "            return Dual(self.val * other.val, temp)\n",
    "        except AttributeError:\n",
    "            return Dual(self.val * other, self.der * other)\n",
    "\n",
    "    def __rmul__(self, other):\n",
    "        return Dual(self.val * other, self.der * other)\n",
    "    \n",
    "    \n",
    "    ## DIVISION OPERATIONS\n",
    "        \n",
    "    def __truediv__(self, other):\n",
    "        try:\n",
    "            # quotient rule\n",
    "            temp = (self.der * other.val - self.val * other.der)\n",
    "            print(self.der)\n",
    "            print(other.der)\n",
    "            return Dual(self.val/other.val, temp/other.val ** 2)\n",
    "        except AttributeError:\n",
    "            # divide by a constant\n",
    "            return Dual(self.val/other, self.der/other)\n",
    "        \n",
    "    def __rtruediv__(self, other):\n",
    "            return Dual(other/self.val, -other/self.val**2*self.der)   \n",
    "    \n",
    "    \n",
    "    ## POWER OPERATIONS\n",
    "    \n",
    "    def __pow__(self, other):\n",
    "        try:\n",
    "            # da^u/dx = ln(a) a^u du/dx\n",
    "            factor = self.val ** (other.val -1)\n",
    "            sum_1 = other.val * self.der\n",
    "            sum_2 = self.val * np.log(self.val) * other.der\n",
    "            temp = factor * (sum_1 + sum_2)\n",
    "            return Dual(self.val ** other.val, temp)\n",
    "        except AttributeError:\n",
    "            # du^n/dx = n * u^(n-1) * du/dx\n",
    "            temp = other * self.val ** (other-1) * self.der\n",
    "            return Dual(self.val ** other, temp)\n",
    "        \n",
    "    def __rpow__(self, other):\n",
    "            print(\"__rpow__\")\n",
    "            # da^u/dx = ln(a) a^u du/dx\n",
    "            temp = np.log(other) * other ** self.val * self.der\n",
    "            return Dual(other ** self.val, temp)\n",
    "        \n"
   ]
  },
  {
   "cell_type": "code",
   "execution_count": 16,
   "metadata": {},
   "outputs": [],
   "source": [
    "def exp(x):\n",
    "    \"\"\"Calculate the exponential of the input\n",
    "        \n",
    "        Keyword arguments:\n",
    "        x -- a real number or a dual number\n",
    "        \n",
    "        Return:\n",
    "        the exponential value\n",
    "        \"\"\"\n",
    "    if (isinstance(x,Dual)):\n",
    "        x.der = np.exp(x.val) * x.der\n",
    "        x.val = np.exp(x.val)\n",
    "        return x\n",
    "    else:\n",
    "        return np.exp(x)"
   ]
  },
  {
   "cell_type": "code",
   "execution_count": 17,
   "metadata": {},
   "outputs": [],
   "source": [
    "trial = Dual(2)\n",
    "trial_exp = exp(trial)"
   ]
  },
  {
   "cell_type": "code",
   "execution_count": 18,
   "metadata": {},
   "outputs": [
    {
     "data": {
      "text/plain": [
       "7.38905609893065"
      ]
     },
     "execution_count": 18,
     "metadata": {},
     "output_type": "execute_result"
    }
   ],
   "source": [
    "trial_exp.der #e^2"
   ]
  },
  {
   "cell_type": "code",
   "execution_count": 19,
   "metadata": {},
   "outputs": [
    {
     "data": {
      "text/plain": [
       "7.38905609893065"
      ]
     },
     "execution_count": 19,
     "metadata": {},
     "output_type": "execute_result"
    }
   ],
   "source": [
    "trial_exp.val"
   ]
  },
  {
   "cell_type": "code",
   "execution_count": 20,
   "metadata": {},
   "outputs": [
    {
     "data": {
      "text/plain": [
       "7.38905609893065"
      ]
     },
     "execution_count": 20,
     "metadata": {},
     "output_type": "execute_result"
    }
   ],
   "source": [
    "np.exp(2)"
   ]
  },
  {
   "cell_type": "code",
   "execution_count": null,
   "metadata": {},
   "outputs": [],
   "source": []
  }
 ],
 "metadata": {
  "kernelspec": {
   "display_name": "Python 3",
   "language": "python",
   "name": "python3"
  },
  "language_info": {
   "codemirror_mode": {
    "name": "ipython",
    "version": 3
   },
   "file_extension": ".py",
   "mimetype": "text/x-python",
   "name": "python",
   "nbconvert_exporter": "python",
   "pygments_lexer": "ipython3",
   "version": "3.6.6"
  }
 },
 "nbformat": 4,
 "nbformat_minor": 2
}
