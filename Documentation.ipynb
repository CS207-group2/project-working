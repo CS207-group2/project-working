{
 "cells": [
  {
   "cell_type": "markdown",
   "metadata": {},
   "source": [
    "# AutoDiff.Dual\n",
    "\n",
    "## Implementation of unary operations\n",
    "We implemented the following unary operations:\n",
    "``__neg__`` and ``__pos__``.\n",
    "\n",
    "## Implementation of binary operations\n",
    "\n",
    "We provide full implementations off all binary differentiable operations with dual and non-dual numbers. When we want to operate a with $u$, $ a \\circ u$, we have 4 possibities: \n",
    "\n",
    "1. $a$ and $u$ are both scalars\n",
    "2. $a$ is a dual number, $b$ is a scalar\n",
    "3. $a$ is a scalar, $b$ is a dual number\n",
    "4. $a$ and $u$ are both dula numbers\n",
    "\n",
    "Operations 1 is already implemented by Python, hence we only need to implement operations 2 through 4.\n",
    "\n",
    "In the class AutoDiff.Dual we will implement the following binary operations:\n",
    "* Addition\n",
    "* Substration\n",
    "* Multiplication\n",
    "* Division\n",
    "* Power\n",
    "\n",
    "Below are the derivative formula for each operation. Dual numbers are marked as a function with a variable, e.g. $u(x)$ or $a(x)$ with ther derivative, $a^{\\prime}$ and $u^{\\prime}$. Scalars are simply labeled without variable: $a$ and $b$. \n",
    "\n",
    "### Addition operation\n",
    "Overload `__add__` to account for:\n",
    "$$ \\dfrac{d}{dx}\\Big[a(x) + u\\Big]= a^\\prime $$\n",
    "$$ \\dfrac{d}{dx}\\Big[a(x) + u(x)\\Big]= a^\\prime + u^\\prime$$\n",
    "Overload `__radd__` to account for:\n",
    "$$ \\dfrac{d}{dx}\\Big[a + u(x)\\Big]= u^\\prime $$\n",
    "\n",
    "### Substration operation\n",
    "Overload `__sub__` to account for:\n",
    "$$ \\dfrac{d}{dx}\\Big[a(x) - u\\Big]= a^\\prime $$\n",
    "$$ \\dfrac{d}{dx}\\Big[a(x) - u(x)\\Big]= a^\\prime - u^\\prime$$\n",
    "Overload `__rsub__` to account for:\n",
    "$$ \\dfrac{d}{dx}\\Big[a - u(x)\\Big]= - u^\\prime $$\n",
    "\n",
    "\n",
    "### Multiplication operation\n",
    "Overload `__mul__` to account for:\n",
    "$$ \\dfrac{d}{dx}\\Big[a(x)u\\Big]= u a^\\prime $$\n",
    "$$ \\dfrac{d}{dx}\\Big[a(x)u(x)\\Big]= a^\\prime u + a u^\\prime$$\n",
    "Overload `__rmul__` to account for:\n",
    "$$ \\dfrac{d}{dx}\\Big[au(x)\\Big]= a u^\\prime $$\n",
    "\n",
    "\n",
    "### Division operation\n",
    "Overload `__truediv__` to account for:\n",
    "$$ \\dfrac{d}{dx}\\Big[\\dfrac{a(x)}{u}\\Big]= \\dfrac{a^\\prime}{u} $$\n",
    "$$ \\dfrac{d}{dx}\\Big[\\dfrac{a(x)}{u(x)}\\Big]= -\\dfrac{a^\\prime u - a u^\\prime}{{u(x)}^2}$$\n",
    "Overload `__rtruediv__` to account for:\n",
    "$$ \\dfrac{d}{dx}\\Big[\\dfrac{a}{u(x)}\\Big]= -\\dfrac{a}{{u(x)}^2} u^\\prime $$\n",
    "\n",
    "\n",
    "### Power operation\n",
    "Overload `__pow__` to account for:\n",
    "$$ \\dfrac{d}{dx} a(x)^n = n a^{n-1} a^{\\prime}$$\n",
    "$$ \\dfrac{d}{dx} a(x)^{u(x)} = a^{u-1} \\Big[u a^\\prime + a \\log(a) u^\\prime \\Big]$$\n",
    "Overload `__rpow__` to account for:\n",
    "$$ \\dfrac{d}{dx} a^{u(x)} = log(a) a^{u(x)} u^\\prime $$"
   ]
  },
  {
   "cell_type": "code",
   "execution_count": 1,
   "metadata": {},
   "outputs": [
    {
     "name": "stdout",
     "output_type": "stream",
     "text": [
      "============================= test session starts =============================\n",
      "platform win32 -- Python 3.6.5, pytest-3.5.1, py-1.5.3, pluggy-0.6.0\n",
      "rootdir: C:\\Users\\bgroe\\Dropbox\\CS207-group2\\project-working, inifile:\n",
      "plugins: remotedata-0.2.1, openfiles-0.3.0, doctestplus-0.1.3, arraydiff-0.2\n",
      "collected 17 items\n",
      "\n",
      "test_dual.py .................                                           [100%]\n",
      "\n",
      "========================== 17 passed in 0.04 seconds ==========================\n"
     ]
    }
   ],
   "source": [
    "!pytest"
   ]
  }
 ],
 "metadata": {
  "kernelspec": {
   "display_name": "Python 3",
   "language": "python",
   "name": "python3"
  },
  "language_info": {
   "codemirror_mode": {
    "name": "ipython",
    "version": 3
   },
   "file_extension": ".py",
   "mimetype": "text/x-python",
   "name": "python",
   "nbconvert_exporter": "python",
   "pygments_lexer": "ipython3",
   "version": "3.6.6"
  }
 },
 "nbformat": 4,
 "nbformat_minor": 2
}
